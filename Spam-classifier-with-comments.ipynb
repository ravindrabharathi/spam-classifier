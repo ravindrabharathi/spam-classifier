{
  "nbformat": 4,
  "nbformat_minor": 0,
  "metadata": {
    "kernelspec": {
      "display_name": "Python 3",
      "language": "python",
      "name": "python3"
    },
    "language_info": {
      "codemirror_mode": {
        "name": "ipython",
        "version": 3
      },
      "file_extension": ".py",
      "mimetype": "text/x-python",
      "name": "python",
      "nbconvert_exporter": "python",
      "pygments_lexer": "ipython3",
      "version": "3.6.5"
    },
    "colab": {
      "name": "Spam-classifier.ipynb",
      "provenance": [],
      "include_colab_link": true
    }
  },
  "cells": [
    {
      "cell_type": "markdown",
      "metadata": {
        "id": "view-in-github",
        "colab_type": "text"
      },
      "source": [
        "<a href=\"https://colab.research.google.com/github/ravindrabharathi/spam-classifier/blob/master/Spam-classifier-with-comments.ipynb\" target=\"_parent\"><img src=\"https://colab.research.google.com/assets/colab-badge.svg\" alt=\"Open In Colab\"/></a>"
      ]
    },
    {
      "cell_type": "markdown",
      "metadata": {
        "id": "7qqfqqex4omB",
        "colab_type": "text"
      },
      "source": [
        "# Spam Classifier using Email Data from TREC 2007 Public Corpus for classifying emails as Spam / Ham(Not spam) . \n",
        "\n",
        "1. We will use the files from 'full' folder in this dataset. \n",
        "\n",
        "2. We will use Pandas to read the content and categorize them into spam:1 and ham:0 \n",
        "\n",
        "3. We will clean up the content by removing line endings , tabs , return characters . We will also remove email addresses, numbers and punctuations from the sentences and convert the text to lowercase.\n",
        "\n",
        "4. We will use NLTK library to remove stopwords like 'the' 'had' , etc\n",
        "\n",
        "5. We will will use NLTK for stemming which is to convert various forms of a root word to the root word itself e.g 'like' is the root word for 'liked' , 'likes' , 'liking' , etc . We will use NLTK SnowballStemmer which handles languages other than English. When handling English language alone Porter stemmer could be used.\n",
        "\n",
        "6. We will use TfidfVectorizer from Scikit Learn library to vectorize and create the train, validation samples \n",
        "\n",
        "7. We will train and test spam / ham classification using Support Vector Machines and NaiveBayes \n",
        "\n"
      ]
    },
    {
      "cell_type": "markdown",
      "metadata": {
        "id": "ZmHv-jS7-0lR",
        "colab_type": "text"
      },
      "source": [
        "### import Pandas and other modules for reading data"
      ]
    },
    {
      "cell_type": "code",
      "metadata": {
        "id": "DtQYiX3z3lF8",
        "colab_type": "code",
        "colab": {}
      },
      "source": [
        "import pandas as pd\n",
        "import os\n",
        "from pathlib import Path\n",
        "\n"
      ],
      "execution_count": 0,
      "outputs": []
    },
    {
      "cell_type": "markdown",
      "metadata": {
        "id": "_sgU7cvt-9GM",
        "colab_type": "text"
      },
      "source": [
        "### read email data "
      ]
    },
    {
      "cell_type": "code",
      "metadata": {
        "id": "b5ugD6Pq3lGB",
        "colab_type": "code",
        "colab": {},
        "outputId": "1d8ec3d1-4242-4a76-9815-1554407c49c8"
      },
      "source": [
        "data=pd.read_csv(\"./full/index\",sep=' ',header=None)\n",
        "data.head()\n"
      ],
      "execution_count": 0,
      "outputs": [
        {
          "output_type": "execute_result",
          "data": {
            "text/html": [
              "<div>\n",
              "<style scoped>\n",
              "    .dataframe tbody tr th:only-of-type {\n",
              "        vertical-align: middle;\n",
              "    }\n",
              "\n",
              "    .dataframe tbody tr th {\n",
              "        vertical-align: top;\n",
              "    }\n",
              "\n",
              "    .dataframe thead th {\n",
              "        text-align: right;\n",
              "    }\n",
              "</style>\n",
              "<table border=\"1\" class=\"dataframe\">\n",
              "  <thead>\n",
              "    <tr style=\"text-align: right;\">\n",
              "      <th></th>\n",
              "      <th>0</th>\n",
              "      <th>1</th>\n",
              "    </tr>\n",
              "  </thead>\n",
              "  <tbody>\n",
              "    <tr>\n",
              "      <th>0</th>\n",
              "      <td>spam</td>\n",
              "      <td>../data/inmail.1</td>\n",
              "    </tr>\n",
              "    <tr>\n",
              "      <th>1</th>\n",
              "      <td>ham</td>\n",
              "      <td>../data/inmail.2</td>\n",
              "    </tr>\n",
              "    <tr>\n",
              "      <th>2</th>\n",
              "      <td>spam</td>\n",
              "      <td>../data/inmail.3</td>\n",
              "    </tr>\n",
              "    <tr>\n",
              "      <th>3</th>\n",
              "      <td>spam</td>\n",
              "      <td>../data/inmail.4</td>\n",
              "    </tr>\n",
              "    <tr>\n",
              "      <th>4</th>\n",
              "      <td>spam</td>\n",
              "      <td>../data/inmail.5</td>\n",
              "    </tr>\n",
              "  </tbody>\n",
              "</table>\n",
              "</div>"
            ],
            "text/plain": [
              "      0                 1\n",
              "0  spam  ../data/inmail.1\n",
              "1   ham  ../data/inmail.2\n",
              "2  spam  ../data/inmail.3\n",
              "3  spam  ../data/inmail.4\n",
              "4  spam  ../data/inmail.5"
            ]
          },
          "metadata": {
            "tags": []
          },
          "execution_count": 2
        }
      ]
    },
    {
      "cell_type": "markdown",
      "metadata": {
        "id": "ZQcXD6oo_Eag",
        "colab_type": "text"
      },
      "source": [
        "### create class, filepath and contents columns"
      ]
    },
    {
      "cell_type": "code",
      "metadata": {
        "id": "pM2irXaO3lGF",
        "colab_type": "code",
        "colab": {}
      },
      "source": [
        "data.columns=['class','filepath']"
      ],
      "execution_count": 0,
      "outputs": []
    },
    {
      "cell_type": "code",
      "metadata": {
        "id": "6wtq1zzD3lGH",
        "colab_type": "code",
        "colab": {},
        "outputId": "ef2385e1-2b5c-44ab-d9a0-4dc0be255572"
      },
      "source": [
        "data['contents']=None\n",
        "data.head()\n"
      ],
      "execution_count": 0,
      "outputs": [
        {
          "output_type": "execute_result",
          "data": {
            "text/html": [
              "<div>\n",
              "<style scoped>\n",
              "    .dataframe tbody tr th:only-of-type {\n",
              "        vertical-align: middle;\n",
              "    }\n",
              "\n",
              "    .dataframe tbody tr th {\n",
              "        vertical-align: top;\n",
              "    }\n",
              "\n",
              "    .dataframe thead th {\n",
              "        text-align: right;\n",
              "    }\n",
              "</style>\n",
              "<table border=\"1\" class=\"dataframe\">\n",
              "  <thead>\n",
              "    <tr style=\"text-align: right;\">\n",
              "      <th></th>\n",
              "      <th>class</th>\n",
              "      <th>filepath</th>\n",
              "      <th>contents</th>\n",
              "    </tr>\n",
              "  </thead>\n",
              "  <tbody>\n",
              "    <tr>\n",
              "      <th>0</th>\n",
              "      <td>spam</td>\n",
              "      <td>../data/inmail.1</td>\n",
              "      <td>None</td>\n",
              "    </tr>\n",
              "    <tr>\n",
              "      <th>1</th>\n",
              "      <td>ham</td>\n",
              "      <td>../data/inmail.2</td>\n",
              "      <td>None</td>\n",
              "    </tr>\n",
              "    <tr>\n",
              "      <th>2</th>\n",
              "      <td>spam</td>\n",
              "      <td>../data/inmail.3</td>\n",
              "      <td>None</td>\n",
              "    </tr>\n",
              "    <tr>\n",
              "      <th>3</th>\n",
              "      <td>spam</td>\n",
              "      <td>../data/inmail.4</td>\n",
              "      <td>None</td>\n",
              "    </tr>\n",
              "    <tr>\n",
              "      <th>4</th>\n",
              "      <td>spam</td>\n",
              "      <td>../data/inmail.5</td>\n",
              "      <td>None</td>\n",
              "    </tr>\n",
              "  </tbody>\n",
              "</table>\n",
              "</div>"
            ],
            "text/plain": [
              "  class          filepath contents\n",
              "0  spam  ../data/inmail.1     None\n",
              "1   ham  ../data/inmail.2     None\n",
              "2  spam  ../data/inmail.3     None\n",
              "3  spam  ../data/inmail.4     None\n",
              "4  spam  ../data/inmail.5     None"
            ]
          },
          "metadata": {
            "tags": []
          },
          "execution_count": 4
        }
      ]
    },
    {
      "cell_type": "markdown",
      "metadata": {
        "id": "eu86izX__UbP",
        "colab_type": "text"
      },
      "source": [
        "### polulate the contents column with email text"
      ]
    },
    {
      "cell_type": "code",
      "metadata": {
        "id": "HRByusqe3lGK",
        "colab_type": "code",
        "colab": {},
        "outputId": "a6b24f4e-92bc-40db-e4b3-89c121e6d007"
      },
      "source": [
        "import re\n",
        "import string\n",
        "    \n",
        "for i,row in data.iterrows():\n",
        "    \n",
        "    filepath=os.path.join(os.getcwd(),row['filepath'].replace('../',''))\n",
        "    with open(filepath, 'rb') as f:\n",
        "        email_txt = f.read()\n",
        "        email_text=str(email_txt)\n",
        "        if i<2:\n",
        "            print(email_txt)\n",
        "        \n",
        "    data.at[i,'contents']= email_txt\n",
        "        \n",
        "print(data.head())\n",
        "print(data.info())"
      ],
      "execution_count": 0,
      "outputs": [
        {
          "output_type": "stream",
          "text": [
            "b'From RickyAmes@aol.com  Sun Apr  8 13:07:32 2007\\nReturn-Path: <RickyAmes@aol.com>\\nReceived: from 129.97.78.23 ([211.202.101.74])\\n\\tby speedy.uwaterloo.ca (8.12.8/8.12.5) with SMTP id l38H7G0I003017;\\n\\tSun, 8 Apr 2007 13:07:21 -0400\\nReceived: from 0.144.152.6 by 211.202.101.74; Sun, 08 Apr 2007 19:04:48 +0100\\nMessage-ID: <WYADCKPDFWWTWTXNFVUE@yahoo.com>\\nFrom: \"Tomas Jacobs\" <RickyAmes@aol.com>\\nReply-To: \"Tomas Jacobs\" <RickyAmes@aol.com>\\nTo: the00@speedy.uwaterloo.ca\\nSubject: Generic Cialis, branded quality@ \\nDate: Sun, 08 Apr 2007 21:00:48 +0300\\nX-Mailer: Microsoft Outlook Express 6.00.2600.0000\\nMIME-Version: 1.0\\nContent-Type: multipart/alternative;\\n\\tboundary=\"--8896484051606557286\"\\nX-Priority: 3\\nX-MSMail-Priority: Normal\\nStatus: RO\\nContent-Length: 988\\nLines: 24\\n\\n----8896484051606557286\\nContent-Type: text/html;\\nContent-Transfer-Encoding: 7Bit\\n\\n<html>\\n<body bgcolor=\"#ffffff\">\\n<div style=\"border-color: #00FFFF; border-right-width: 0px; border-bottom-width: 0px; margin-bottom: 0px;\" align=\"center\">\\n<table style=\"border: 1px; border-style: solid; border-color:#000000;\" cellpadding=\"5\" cellspacing=\"0\" bgcolor=\"#CCFFAA\">\\n<tr>\\n<td style=\"border: 0px; border-bottom: 1px; border-style: solid; border-color:#000000;\">\\n<center>\\nDo you feel the pressure to perform and not rising to the occasion??<br>\\n</center>\\n</td></tr><tr>\\n<td bgcolor=#FFFF33 style=\"border: 0px; border-bottom: 1px; border-style: solid; border-color:#000000;\">\\n<center>\\n\\n<b><a href=\\'http://excoriationtuh.com/?lzmfnrdkleks\\'>Try <span>V</span><span>ia<span></span>gr<span>a</span>.....</a></b></center>\\n</td></tr><td><center>your anxiety will be a thing of the past and you will<br>\\nbe back to your old self.\\n</center></td></tr></table></div></body></html>\\n\\n\\n----8896484051606557286--\\n\\n'\n",
            "b'From bounce-debian-mirrors=ktwarwic=speedy.uwaterloo.ca@lists.debian.org  Sun Apr  8 13:09:29 2007\\nReturn-Path: <bounce-debian-mirrors=ktwarwic=speedy.uwaterloo.ca@lists.debian.org>\\nReceived: from murphy.debian.org (murphy.debian.org [70.103.162.31])\\n\\tby speedy.uwaterloo.ca (8.12.8/8.12.5) with ESMTP id l38H9S0I003031\\n\\tfor <ktwarwic@speedy.uwaterloo.ca>; Sun, 8 Apr 2007 13:09:28 -0400\\nReceived: from localhost (localhost [127.0.0.1])\\n\\tby murphy.debian.org (Postfix) with QMQP\\n\\tid 90C152E68E; Sun,  8 Apr 2007 12:09:05 -0500 (CDT)\\nOld-Return-Path: <yan.morin@savoirfairelinux.com>\\nX-Spam-Checker-Version: SpamAssassin 3.1.4 (2006-07-26) on murphy.debian.org\\nX-Spam-Level: \\nX-Spam-Status: No, score=-1.1 required=4.0 tests=BAYES_05 autolearn=no \\n\\tversion=3.1.4\\nX-Original-To: debian-mirrors@lists.debian.org\\nReceived: from xenon.savoirfairelinux.net (savoirfairelinux.net [199.243.85.90])\\n\\tby murphy.debian.org (Postfix) with ESMTP id 827432E3E5\\n\\tfor <debian-mirrors@lists.debian.org>; Sun,  8 Apr 2007 11:52:35 -0500 (CDT)\\nReceived: from [192.168.0.101] (bas6-montreal28-1177925679.dsl.bell.ca [70.53.184.47])\\n\\tby xenon.savoirfairelinux.net (Postfix) with ESMTP id C1223F69B7\\n\\tfor <debian-mirrors@lists.debian.org>; Sun,  8 Apr 2007 12:52:34 -0400 (EDT)\\nMessage-ID: <46191DCE.3020508@savoirfairelinux.com>\\nDate: Sun, 08 Apr 2007 12:52:30 -0400\\nFrom: Yan Morin <yan.morin@savoirfairelinux.com>\\nUser-Agent: Icedove 1.5.0.10 (X11/20070329)\\nMIME-Version: 1.0\\nTo: debian-mirrors@lists.debian.org\\nSubject: Typo in /debian/README\\nX-Enigmail-Version: 0.94.2.0\\nContent-Type: text/plain; charset=ISO-8859-1\\nContent-Transfer-Encoding: 7bit\\nX-Rc-Spam: 2007-01-18_01\\nX-Rc-Virus: 2006-10-25_01\\nX-Rc-Spam: 2007-01-18_01\\nResent-Message-ID: <tHOiyB.A.jEC.xGSGGB@murphy>\\nResent-From: debian-mirrors@lists.debian.org\\nX-Mailing-List: <debian-mirrors@lists.debian.org> \\nX-Loop: debian-mirrors@lists.debian.org\\nList-Id: <debian-mirrors.lists.debian.org>\\nList-Post: <mailto:debian-mirrors@lists.debian.org>\\nList-Help: <mailto:debian-mirrors-request@lists.debian.org?subject=help>\\nList-Subscribe: <mailto:debian-mirrors-request@lists.debian.org?subject=subscribe>\\nList-Unsubscribe: <mailto:debian-mirrors-request@lists.debian.org?subject=unsubscribe>\\nPrecedence: list\\nResent-Sender: debian-mirrors-request@lists.debian.org\\nResent-Date: Sun,  8 Apr 2007 12:09:05 -0500 (CDT)\\nStatus: RO\\nContent-Length: 729\\nLines: 26\\n\\nHi, i\\'ve just updated from the gulus and I check on other mirrors.\\nIt seems there is a little typo in /debian/README file\\n\\nExample:\\nhttp://gulus.usherbrooke.ca/debian/README\\nftp://ftp.fr.debian.org/debian/README\\n\\n\"Testing, or lenny.  Access this release through dists/testing.  The\\ncurrent tested development snapshot is named etch.  Packages which\\nhave been tested in unstable and passed automated tests propogate to\\nthis release.\"\\n\\netch should be replace by lenny like in the README.html\\n\\n\\n\\n-- \\nYan Morin\\nConsultant en logiciel libre\\nyan.morin@savoirfairelinux.com\\n514-994-1556\\n\\n\\n-- \\nTo UNSUBSCRIBE, email to debian-mirrors-REQUEST@lists.debian.org\\nwith a subject of \"unsubscribe\". Trouble? Contact listmaster@lists.debian.org\\n\\n'\n",
            "  class          filepath                                           contents\n",
            "0  spam  ../data/inmail.1  b'From RickyAmes@aol.com  Sun Apr  8 13:07:32 ...\n",
            "1   ham  ../data/inmail.2  b'From bounce-debian-mirrors=ktwarwic=speedy.u...\n",
            "2  spam  ../data/inmail.3  b'From 7stocknews@tractionmarketing.com  Sun A...\n",
            "3  spam  ../data/inmail.4  b'From vqucsmdfgvsg@ruraltek.com  Sun Apr  8 1...\n",
            "4  spam  ../data/inmail.5  b'From dcube@totalink.net  Sun Apr  8 13:19:30...\n",
            "<class 'pandas.core.frame.DataFrame'>\n",
            "RangeIndex: 75419 entries, 0 to 75418\n",
            "Data columns (total 3 columns):\n",
            "class       75419 non-null object\n",
            "filepath    75419 non-null object\n",
            "contents    75419 non-null object\n",
            "dtypes: object(3)\n",
            "memory usage: 1.7+ MB\n",
            "None\n"
          ],
          "name": "stdout"
        }
      ]
    },
    {
      "cell_type": "markdown",
      "metadata": {
        "id": "M4aZgW3a_fV_",
        "colab_type": "text"
      },
      "source": [
        "### categorize class as spam:1 and ham:0"
      ]
    },
    {
      "cell_type": "code",
      "metadata": {
        "id": "QRBON9R23lGM",
        "colab_type": "code",
        "colab": {},
        "outputId": "58d2a94a-4783-453d-dbde-ab54728ac009"
      },
      "source": [
        "category={'spam':1,'ham':0}\n",
        "data['class']=[category[item] for item in data['class'] ]\n",
        "data.head()"
      ],
      "execution_count": 0,
      "outputs": [
        {
          "output_type": "execute_result",
          "data": {
            "text/html": [
              "<div>\n",
              "<style scoped>\n",
              "    .dataframe tbody tr th:only-of-type {\n",
              "        vertical-align: middle;\n",
              "    }\n",
              "\n",
              "    .dataframe tbody tr th {\n",
              "        vertical-align: top;\n",
              "    }\n",
              "\n",
              "    .dataframe thead th {\n",
              "        text-align: right;\n",
              "    }\n",
              "</style>\n",
              "<table border=\"1\" class=\"dataframe\">\n",
              "  <thead>\n",
              "    <tr style=\"text-align: right;\">\n",
              "      <th></th>\n",
              "      <th>class</th>\n",
              "      <th>filepath</th>\n",
              "      <th>contents</th>\n",
              "    </tr>\n",
              "  </thead>\n",
              "  <tbody>\n",
              "    <tr>\n",
              "      <th>0</th>\n",
              "      <td>1</td>\n",
              "      <td>../data/inmail.1</td>\n",
              "      <td>b'From RickyAmes@aol.com  Sun Apr  8 13:07:32 ...</td>\n",
              "    </tr>\n",
              "    <tr>\n",
              "      <th>1</th>\n",
              "      <td>0</td>\n",
              "      <td>../data/inmail.2</td>\n",
              "      <td>b'From bounce-debian-mirrors=ktwarwic=speedy.u...</td>\n",
              "    </tr>\n",
              "    <tr>\n",
              "      <th>2</th>\n",
              "      <td>1</td>\n",
              "      <td>../data/inmail.3</td>\n",
              "      <td>b'From 7stocknews@tractionmarketing.com  Sun A...</td>\n",
              "    </tr>\n",
              "    <tr>\n",
              "      <th>3</th>\n",
              "      <td>1</td>\n",
              "      <td>../data/inmail.4</td>\n",
              "      <td>b'From vqucsmdfgvsg@ruraltek.com  Sun Apr  8 1...</td>\n",
              "    </tr>\n",
              "    <tr>\n",
              "      <th>4</th>\n",
              "      <td>1</td>\n",
              "      <td>../data/inmail.5</td>\n",
              "      <td>b'From dcube@totalink.net  Sun Apr  8 13:19:30...</td>\n",
              "    </tr>\n",
              "  </tbody>\n",
              "</table>\n",
              "</div>"
            ],
            "text/plain": [
              "   class          filepath                                           contents\n",
              "0      1  ../data/inmail.1  b'From RickyAmes@aol.com  Sun Apr  8 13:07:32 ...\n",
              "1      0  ../data/inmail.2  b'From bounce-debian-mirrors=ktwarwic=speedy.u...\n",
              "2      1  ../data/inmail.3  b'From 7stocknews@tractionmarketing.com  Sun A...\n",
              "3      1  ../data/inmail.4  b'From vqucsmdfgvsg@ruraltek.com  Sun Apr  8 1...\n",
              "4      1  ../data/inmail.5  b'From dcube@totalink.net  Sun Apr  8 13:19:30..."
            ]
          },
          "metadata": {
            "tags": []
          },
          "execution_count": 6
        }
      ]
    },
    {
      "cell_type": "markdown",
      "metadata": {
        "id": "JUtuBUem_rX3",
        "colab_type": "text"
      },
      "source": [
        "### create train, test data from the full set"
      ]
    },
    {
      "cell_type": "code",
      "metadata": {
        "id": "ZwPg0GKj3lGO",
        "colab_type": "code",
        "colab": {}
      },
      "source": [
        "X_train=(data['contents'][0:1999]).copy()"
      ],
      "execution_count": 0,
      "outputs": []
    },
    {
      "cell_type": "code",
      "metadata": {
        "id": "sSStMwYn3lGR",
        "colab_type": "code",
        "colab": {}
      },
      "source": [
        "y_train=data['class'][0:1999]"
      ],
      "execution_count": 0,
      "outputs": []
    },
    {
      "cell_type": "code",
      "metadata": {
        "id": "FgUspOAR3lGT",
        "colab_type": "code",
        "colab": {}
      },
      "source": [
        "X_test=(data['contents'][2000:2500]).copy()"
      ],
      "execution_count": 0,
      "outputs": []
    },
    {
      "cell_type": "code",
      "metadata": {
        "id": "OT7u2lOK3lGV",
        "colab_type": "code",
        "colab": {}
      },
      "source": [
        "y_test=data['class'][2000:2500]"
      ],
      "execution_count": 0,
      "outputs": []
    },
    {
      "cell_type": "markdown",
      "metadata": {
        "id": "ZI1RvguL_xP6",
        "colab_type": "text"
      },
      "source": [
        "### import nltk stowords "
      ]
    },
    {
      "cell_type": "code",
      "metadata": {
        "id": "7pg768TI3lGX",
        "colab_type": "code",
        "colab": {},
        "outputId": "e9f2064e-67f3-4fa4-b28b-379ef15e3538"
      },
      "source": [
        "import nltk \n",
        "from nltk.corpus import stopwords\n",
        "nltk.download ('stopwords')\n",
        "\n",
        "nltk.download ('punkt')\n",
        "stop_words=set(stopwords.words(\"english\"))\n",
        "\n",
        "    "
      ],
      "execution_count": 0,
      "outputs": [
        {
          "output_type": "stream",
          "text": [
            "[nltk_data] Downloading package stopwords to\n",
            "[nltk_data]     /Users/ravindra/nltk_data...\n",
            "[nltk_data]   Package stopwords is already up-to-date!\n",
            "[nltk_data] Downloading package punkt to /Users/ravindra/nltk_data...\n",
            "[nltk_data]   Package punkt is already up-to-date!\n"
          ],
          "name": "stderr"
        }
      ]
    },
    {
      "cell_type": "markdown",
      "metadata": {
        "id": "bIUAMEAo_2wd",
        "colab_type": "text"
      },
      "source": [
        "### import nltk tokenizers, stemmers and add function definitions for processing the email text "
      ]
    },
    {
      "cell_type": "code",
      "metadata": {
        "id": "ZOFSz6Ja3lGb",
        "colab_type": "code",
        "colab": {}
      },
      "source": [
        "from nltk.tokenize import word_tokenize\n",
        "from nltk.stem import PorterStemmer,SnowballStemmer\n",
        "\n",
        "def cleanText(email_txt):\n",
        "    email_txt=str(email_txt).replace('\\\\n', ' ').replace('\\\\r', ' ').replace('\\\\t',' ')\n",
        "    #print(email_txt)\n",
        "    clean1 = re.compile('<.*?>')\n",
        "    email_txt=re.sub(clean1, '', str(email_txt)).lower()\n",
        "    clean2=re.compile('\\S*@\\S*\\s?')\n",
        "    email_txt=re.sub(clean2,'emailAddress',email_txt)\n",
        "    email_txt=email_txt.translate(str.maketrans('','',string.punctuation))\n",
        "    email_txt=email_txt.translate(str.maketrans('','','1234567890'))\n",
        "    return str(email_txt)\n",
        "\n",
        "def tokenizeText(text):\n",
        "     return word_tokenize(text)\n",
        "    \n",
        "def removeStopWords(text):\n",
        "    result=[]\n",
        "    for word in text:\n",
        "        if word not in stop_words:\n",
        "            result.append(word)\n",
        "    return result\n",
        "\n",
        "\n",
        "def performStemming(text):\n",
        "    result=''\n",
        "    stemr=SnowballStemmer('english')\n",
        "    for word in text:\n",
        "        result +=(stemr.stem(word))+' '\n",
        "    return result\n",
        "\n",
        "def preprocessText(text):\n",
        "    text0=cleanText(text)\n",
        "    text1=tokenizeText(text0)\n",
        "    text2=removeStopWords(text1)\n",
        "    \n",
        "    text3=performStemming(text2)\n",
        "    #print(text3)\n",
        "    return text3"
      ],
      "execution_count": 0,
      "outputs": []
    },
    {
      "cell_type": "markdown",
      "metadata": {
        "id": "xhtzwHzzAEUS",
        "colab_type": "text"
      },
      "source": [
        "### apply preprocessing on train , test set "
      ]
    },
    {
      "cell_type": "code",
      "metadata": {
        "id": "oKtDoPpC3lGd",
        "colab_type": "code",
        "colab": {}
      },
      "source": [
        "\n",
        "X_train = X_train.apply(preprocessText)"
      ],
      "execution_count": 0,
      "outputs": []
    },
    {
      "cell_type": "code",
      "metadata": {
        "id": "kk4K9-5r3lGf",
        "colab_type": "code",
        "colab": {}
      },
      "source": [
        "X_test=X_test.apply(preprocessText)"
      ],
      "execution_count": 0,
      "outputs": []
    },
    {
      "cell_type": "markdown",
      "metadata": {
        "id": "sivt2IpzAU4i",
        "colab_type": "text"
      },
      "source": [
        "### use TfidVectorizer for feature extraction /vectorization and create train/validation set using train_test_split module"
      ]
    },
    {
      "cell_type": "code",
      "metadata": {
        "id": "xwIIbhBE3lGh",
        "colab_type": "code",
        "colab": {}
      },
      "source": [
        "from sklearn.feature_extraction.text import TfidfVectorizer\n",
        "from sklearn.model_selection import train_test_split\n",
        "vectorizer = TfidfVectorizer(\"english\")\n",
        "features = vectorizer.fit_transform(X_train)\n",
        "features_train, features_test, labels_train, labels_test = train_test_split(features, y_train, test_size=0.3, random_state=42)"
      ],
      "execution_count": 0,
      "outputs": []
    },
    {
      "cell_type": "markdown",
      "metadata": {
        "id": "4_sEDpm0AQvu",
        "colab_type": "text"
      },
      "source": [
        "### use SVM for training and then test spam / ham classification on validation set"
      ]
    },
    {
      "cell_type": "code",
      "metadata": {
        "id": "MORY4Erv3lGj",
        "colab_type": "code",
        "colab": {},
        "outputId": "071537bb-bd41-47a0-aa6a-718dc92e7c17"
      },
      "source": [
        "from sklearn.metrics import accuracy_score\n",
        "from sklearn.svm import SVC\n",
        "\n",
        "svc = SVC(kernel='sigmoid', gamma=1.0)\n",
        "svc.fit(features_train, labels_train)\n",
        "prediction = svc.predict(features_test)\n",
        "accuracy_score(labels_test,prediction)"
      ],
      "execution_count": 0,
      "outputs": [
        {
          "output_type": "execute_result",
          "data": {
            "text/plain": [
              "0.9916666666666667"
            ]
          },
          "metadata": {
            "tags": []
          },
          "execution_count": 16
        }
      ]
    },
    {
      "cell_type": "markdown",
      "metadata": {
        "id": "4GYRrFALA_bW",
        "colab_type": "text"
      },
      "source": [
        "### use NaiveBayes to train and then test spam / ham classification on validation set"
      ]
    },
    {
      "cell_type": "code",
      "metadata": {
        "id": "BSdpV1-T3lGl",
        "colab_type": "code",
        "colab": {},
        "outputId": "f2cc719e-1fee-4f02-b63e-4797097393d6"
      },
      "source": [
        "from sklearn.naive_bayes import MultinomialNB\n",
        "\n",
        "mnb = MultinomialNB(alpha=0.2)\n",
        "mnb.fit(features_train, labels_train)\n",
        "prediction = mnb.predict(features_test)\n",
        "accuracy_score(labels_test,prediction)"
      ],
      "execution_count": 0,
      "outputs": [
        {
          "output_type": "execute_result",
          "data": {
            "text/plain": [
              "0.9716666666666667"
            ]
          },
          "metadata": {
            "tags": []
          },
          "execution_count": 17
        }
      ]
    },
    {
      "cell_type": "markdown",
      "metadata": {
        "id": "61ZIjiMvBSJk",
        "colab_type": "text"
      },
      "source": [
        "### Get the prediction of NaiveBayes classifier on the test set "
      ]
    },
    {
      "cell_type": "code",
      "metadata": {
        "id": "JGgMEhIs3lGn",
        "colab_type": "code",
        "colab": {},
        "outputId": "00d232fa-fa8a-4127-abf0-23817f2c37ed"
      },
      "source": [
        "\n",
        "features3 = vectorizer.transform(X_test)\n",
        "print(features3.shape)\n",
        "prediction = mnb.predict(features3)\n"
      ],
      "execution_count": 0,
      "outputs": [
        {
          "output_type": "stream",
          "text": [
            "(500, 82430)\n"
          ],
          "name": "stdout"
        }
      ]
    },
    {
      "cell_type": "markdown",
      "metadata": {
        "id": "VopwH5m5Bqmm",
        "colab_type": "text"
      },
      "source": [
        "### print accuracy score by comparing predictions vs True values"
      ]
    },
    {
      "cell_type": "code",
      "metadata": {
        "id": "qY3rww033lGq",
        "colab_type": "code",
        "colab": {},
        "outputId": "2e12938f-374b-4142-a58f-565232d0a138"
      },
      "source": [
        "accuracy_score(y_test,prediction)"
      ],
      "execution_count": 0,
      "outputs": [
        {
          "output_type": "execute_result",
          "data": {
            "text/plain": [
              "0.986"
            ]
          },
          "metadata": {
            "tags": []
          },
          "execution_count": 19
        }
      ]
    },
    {
      "cell_type": "code",
      "metadata": {
        "id": "qrRiknm23lGs",
        "colab_type": "code",
        "colab": {}
      },
      "source": [
        ""
      ],
      "execution_count": 0,
      "outputs": []
    }
  ]
}