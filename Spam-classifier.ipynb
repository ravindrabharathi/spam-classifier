{
 "cells": [
  {
   "cell_type": "code",
   "execution_count": 1,
   "metadata": {},
   "outputs": [],
   "source": [
    "import pandas as pd\n",
    "import os\n",
    "from pathlib import Path\n",
    "\n"
   ]
  },
  {
   "cell_type": "code",
   "execution_count": 2,
   "metadata": {},
   "outputs": [
    {
     "data": {
      "text/html": [
       "<div>\n",
       "<style scoped>\n",
       "    .dataframe tbody tr th:only-of-type {\n",
       "        vertical-align: middle;\n",
       "    }\n",
       "\n",
       "    .dataframe tbody tr th {\n",
       "        vertical-align: top;\n",
       "    }\n",
       "\n",
       "    .dataframe thead th {\n",
       "        text-align: right;\n",
       "    }\n",
       "</style>\n",
       "<table border=\"1\" class=\"dataframe\">\n",
       "  <thead>\n",
       "    <tr style=\"text-align: right;\">\n",
       "      <th></th>\n",
       "      <th>0</th>\n",
       "      <th>1</th>\n",
       "    </tr>\n",
       "  </thead>\n",
       "  <tbody>\n",
       "    <tr>\n",
       "      <th>0</th>\n",
       "      <td>spam</td>\n",
       "      <td>../data/inmail.1</td>\n",
       "    </tr>\n",
       "    <tr>\n",
       "      <th>1</th>\n",
       "      <td>ham</td>\n",
       "      <td>../data/inmail.2</td>\n",
       "    </tr>\n",
       "    <tr>\n",
       "      <th>2</th>\n",
       "      <td>spam</td>\n",
       "      <td>../data/inmail.3</td>\n",
       "    </tr>\n",
       "    <tr>\n",
       "      <th>3</th>\n",
       "      <td>spam</td>\n",
       "      <td>../data/inmail.4</td>\n",
       "    </tr>\n",
       "    <tr>\n",
       "      <th>4</th>\n",
       "      <td>spam</td>\n",
       "      <td>../data/inmail.5</td>\n",
       "    </tr>\n",
       "  </tbody>\n",
       "</table>\n",
       "</div>"
      ],
      "text/plain": [
       "      0                 1\n",
       "0  spam  ../data/inmail.1\n",
       "1   ham  ../data/inmail.2\n",
       "2  spam  ../data/inmail.3\n",
       "3  spam  ../data/inmail.4\n",
       "4  spam  ../data/inmail.5"
      ]
     },
     "execution_count": 2,
     "metadata": {},
     "output_type": "execute_result"
    }
   ],
   "source": [
    "data=pd.read_csv(\"./full/index\",sep=' ',header=None)\n",
    "data.head()\n"
   ]
  },
  {
   "cell_type": "code",
   "execution_count": 3,
   "metadata": {},
   "outputs": [],
   "source": [
    "data.columns=['class','filepath']"
   ]
  },
  {
   "cell_type": "code",
   "execution_count": 4,
   "metadata": {},
   "outputs": [
    {
     "data": {
      "text/html": [
       "<div>\n",
       "<style scoped>\n",
       "    .dataframe tbody tr th:only-of-type {\n",
       "        vertical-align: middle;\n",
       "    }\n",
       "\n",
       "    .dataframe tbody tr th {\n",
       "        vertical-align: top;\n",
       "    }\n",
       "\n",
       "    .dataframe thead th {\n",
       "        text-align: right;\n",
       "    }\n",
       "</style>\n",
       "<table border=\"1\" class=\"dataframe\">\n",
       "  <thead>\n",
       "    <tr style=\"text-align: right;\">\n",
       "      <th></th>\n",
       "      <th>class</th>\n",
       "      <th>filepath</th>\n",
       "      <th>contents</th>\n",
       "    </tr>\n",
       "  </thead>\n",
       "  <tbody>\n",
       "    <tr>\n",
       "      <th>0</th>\n",
       "      <td>spam</td>\n",
       "      <td>../data/inmail.1</td>\n",
       "      <td>None</td>\n",
       "    </tr>\n",
       "    <tr>\n",
       "      <th>1</th>\n",
       "      <td>ham</td>\n",
       "      <td>../data/inmail.2</td>\n",
       "      <td>None</td>\n",
       "    </tr>\n",
       "    <tr>\n",
       "      <th>2</th>\n",
       "      <td>spam</td>\n",
       "      <td>../data/inmail.3</td>\n",
       "      <td>None</td>\n",
       "    </tr>\n",
       "    <tr>\n",
       "      <th>3</th>\n",
       "      <td>spam</td>\n",
       "      <td>../data/inmail.4</td>\n",
       "      <td>None</td>\n",
       "    </tr>\n",
       "    <tr>\n",
       "      <th>4</th>\n",
       "      <td>spam</td>\n",
       "      <td>../data/inmail.5</td>\n",
       "      <td>None</td>\n",
       "    </tr>\n",
       "  </tbody>\n",
       "</table>\n",
       "</div>"
      ],
      "text/plain": [
       "  class          filepath contents\n",
       "0  spam  ../data/inmail.1     None\n",
       "1   ham  ../data/inmail.2     None\n",
       "2  spam  ../data/inmail.3     None\n",
       "3  spam  ../data/inmail.4     None\n",
       "4  spam  ../data/inmail.5     None"
      ]
     },
     "execution_count": 4,
     "metadata": {},
     "output_type": "execute_result"
    }
   ],
   "source": [
    "data['contents']=None\n",
    "data.head()\n"
   ]
  },
  {
   "cell_type": "code",
   "execution_count": 5,
   "metadata": {},
   "outputs": [
    {
     "name": "stdout",
     "output_type": "stream",
     "text": [
      "b'From RickyAmes@aol.com  Sun Apr  8 13:07:32 2007\\nReturn-Path: <RickyAmes@aol.com>\\nReceived: from 129.97.78.23 ([211.202.101.74])\\n\\tby speedy.uwaterloo.ca (8.12.8/8.12.5) with SMTP id l38H7G0I003017;\\n\\tSun, 8 Apr 2007 13:07:21 -0400\\nReceived: from 0.144.152.6 by 211.202.101.74; Sun, 08 Apr 2007 19:04:48 +0100\\nMessage-ID: <WYADCKPDFWWTWTXNFVUE@yahoo.com>\\nFrom: \"Tomas Jacobs\" <RickyAmes@aol.com>\\nReply-To: \"Tomas Jacobs\" <RickyAmes@aol.com>\\nTo: the00@speedy.uwaterloo.ca\\nSubject: Generic Cialis, branded quality@ \\nDate: Sun, 08 Apr 2007 21:00:48 +0300\\nX-Mailer: Microsoft Outlook Express 6.00.2600.0000\\nMIME-Version: 1.0\\nContent-Type: multipart/alternative;\\n\\tboundary=\"--8896484051606557286\"\\nX-Priority: 3\\nX-MSMail-Priority: Normal\\nStatus: RO\\nContent-Length: 988\\nLines: 24\\n\\n----8896484051606557286\\nContent-Type: text/html;\\nContent-Transfer-Encoding: 7Bit\\n\\n<html>\\n<body bgcolor=\"#ffffff\">\\n<div style=\"border-color: #00FFFF; border-right-width: 0px; border-bottom-width: 0px; margin-bottom: 0px;\" align=\"center\">\\n<table style=\"border: 1px; border-style: solid; border-color:#000000;\" cellpadding=\"5\" cellspacing=\"0\" bgcolor=\"#CCFFAA\">\\n<tr>\\n<td style=\"border: 0px; border-bottom: 1px; border-style: solid; border-color:#000000;\">\\n<center>\\nDo you feel the pressure to perform and not rising to the occasion??<br>\\n</center>\\n</td></tr><tr>\\n<td bgcolor=#FFFF33 style=\"border: 0px; border-bottom: 1px; border-style: solid; border-color:#000000;\">\\n<center>\\n\\n<b><a href=\\'http://excoriationtuh.com/?lzmfnrdkleks\\'>Try <span>V</span><span>ia<span></span>gr<span>a</span>.....</a></b></center>\\n</td></tr><td><center>your anxiety will be a thing of the past and you will<br>\\nbe back to your old self.\\n</center></td></tr></table></div></body></html>\\n\\n\\n----8896484051606557286--\\n\\n'\n",
      "b'From bounce-debian-mirrors=ktwarwic=speedy.uwaterloo.ca@lists.debian.org  Sun Apr  8 13:09:29 2007\\nReturn-Path: <bounce-debian-mirrors=ktwarwic=speedy.uwaterloo.ca@lists.debian.org>\\nReceived: from murphy.debian.org (murphy.debian.org [70.103.162.31])\\n\\tby speedy.uwaterloo.ca (8.12.8/8.12.5) with ESMTP id l38H9S0I003031\\n\\tfor <ktwarwic@speedy.uwaterloo.ca>; Sun, 8 Apr 2007 13:09:28 -0400\\nReceived: from localhost (localhost [127.0.0.1])\\n\\tby murphy.debian.org (Postfix) with QMQP\\n\\tid 90C152E68E; Sun,  8 Apr 2007 12:09:05 -0500 (CDT)\\nOld-Return-Path: <yan.morin@savoirfairelinux.com>\\nX-Spam-Checker-Version: SpamAssassin 3.1.4 (2006-07-26) on murphy.debian.org\\nX-Spam-Level: \\nX-Spam-Status: No, score=-1.1 required=4.0 tests=BAYES_05 autolearn=no \\n\\tversion=3.1.4\\nX-Original-To: debian-mirrors@lists.debian.org\\nReceived: from xenon.savoirfairelinux.net (savoirfairelinux.net [199.243.85.90])\\n\\tby murphy.debian.org (Postfix) with ESMTP id 827432E3E5\\n\\tfor <debian-mirrors@lists.debian.org>; Sun,  8 Apr 2007 11:52:35 -0500 (CDT)\\nReceived: from [192.168.0.101] (bas6-montreal28-1177925679.dsl.bell.ca [70.53.184.47])\\n\\tby xenon.savoirfairelinux.net (Postfix) with ESMTP id C1223F69B7\\n\\tfor <debian-mirrors@lists.debian.org>; Sun,  8 Apr 2007 12:52:34 -0400 (EDT)\\nMessage-ID: <46191DCE.3020508@savoirfairelinux.com>\\nDate: Sun, 08 Apr 2007 12:52:30 -0400\\nFrom: Yan Morin <yan.morin@savoirfairelinux.com>\\nUser-Agent: Icedove 1.5.0.10 (X11/20070329)\\nMIME-Version: 1.0\\nTo: debian-mirrors@lists.debian.org\\nSubject: Typo in /debian/README\\nX-Enigmail-Version: 0.94.2.0\\nContent-Type: text/plain; charset=ISO-8859-1\\nContent-Transfer-Encoding: 7bit\\nX-Rc-Spam: 2007-01-18_01\\nX-Rc-Virus: 2006-10-25_01\\nX-Rc-Spam: 2007-01-18_01\\nResent-Message-ID: <tHOiyB.A.jEC.xGSGGB@murphy>\\nResent-From: debian-mirrors@lists.debian.org\\nX-Mailing-List: <debian-mirrors@lists.debian.org> \\nX-Loop: debian-mirrors@lists.debian.org\\nList-Id: <debian-mirrors.lists.debian.org>\\nList-Post: <mailto:debian-mirrors@lists.debian.org>\\nList-Help: <mailto:debian-mirrors-request@lists.debian.org?subject=help>\\nList-Subscribe: <mailto:debian-mirrors-request@lists.debian.org?subject=subscribe>\\nList-Unsubscribe: <mailto:debian-mirrors-request@lists.debian.org?subject=unsubscribe>\\nPrecedence: list\\nResent-Sender: debian-mirrors-request@lists.debian.org\\nResent-Date: Sun,  8 Apr 2007 12:09:05 -0500 (CDT)\\nStatus: RO\\nContent-Length: 729\\nLines: 26\\n\\nHi, i\\'ve just updated from the gulus and I check on other mirrors.\\nIt seems there is a little typo in /debian/README file\\n\\nExample:\\nhttp://gulus.usherbrooke.ca/debian/README\\nftp://ftp.fr.debian.org/debian/README\\n\\n\"Testing, or lenny.  Access this release through dists/testing.  The\\ncurrent tested development snapshot is named etch.  Packages which\\nhave been tested in unstable and passed automated tests propogate to\\nthis release.\"\\n\\netch should be replace by lenny like in the README.html\\n\\n\\n\\n-- \\nYan Morin\\nConsultant en logiciel libre\\nyan.morin@savoirfairelinux.com\\n514-994-1556\\n\\n\\n-- \\nTo UNSUBSCRIBE, email to debian-mirrors-REQUEST@lists.debian.org\\nwith a subject of \"unsubscribe\". Trouble? Contact listmaster@lists.debian.org\\n\\n'\n",
      "  class          filepath                                           contents\n",
      "0  spam  ../data/inmail.1  b'From RickyAmes@aol.com  Sun Apr  8 13:07:32 ...\n",
      "1   ham  ../data/inmail.2  b'From bounce-debian-mirrors=ktwarwic=speedy.u...\n",
      "2  spam  ../data/inmail.3  b'From 7stocknews@tractionmarketing.com  Sun A...\n",
      "3  spam  ../data/inmail.4  b'From vqucsmdfgvsg@ruraltek.com  Sun Apr  8 1...\n",
      "4  spam  ../data/inmail.5  b'From dcube@totalink.net  Sun Apr  8 13:19:30...\n",
      "<class 'pandas.core.frame.DataFrame'>\n",
      "RangeIndex: 75419 entries, 0 to 75418\n",
      "Data columns (total 3 columns):\n",
      "class       75419 non-null object\n",
      "filepath    75419 non-null object\n",
      "contents    75419 non-null object\n",
      "dtypes: object(3)\n",
      "memory usage: 1.7+ MB\n",
      "None\n"
     ]
    }
   ],
   "source": [
    "import re\n",
    "import string\n",
    "    \n",
    "for i,row in data.iterrows():\n",
    "    \n",
    "    filepath=os.path.join(os.getcwd(),row['filepath'].replace('../',''))\n",
    "    with open(filepath, 'rb') as f:\n",
    "        email_txt = f.read()\n",
    "        email_text=str(email_txt)\n",
    "        if i<2:\n",
    "            print(email_txt)\n",
    "        \n",
    "    data.at[i,'contents']= email_txt\n",
    "        \n",
    "print(data.head())\n",
    "print(data.info())"
   ]
  },
  {
   "cell_type": "code",
   "execution_count": 6,
   "metadata": {},
   "outputs": [
    {
     "data": {
      "text/html": [
       "<div>\n",
       "<style scoped>\n",
       "    .dataframe tbody tr th:only-of-type {\n",
       "        vertical-align: middle;\n",
       "    }\n",
       "\n",
       "    .dataframe tbody tr th {\n",
       "        vertical-align: top;\n",
       "    }\n",
       "\n",
       "    .dataframe thead th {\n",
       "        text-align: right;\n",
       "    }\n",
       "</style>\n",
       "<table border=\"1\" class=\"dataframe\">\n",
       "  <thead>\n",
       "    <tr style=\"text-align: right;\">\n",
       "      <th></th>\n",
       "      <th>class</th>\n",
       "      <th>filepath</th>\n",
       "      <th>contents</th>\n",
       "    </tr>\n",
       "  </thead>\n",
       "  <tbody>\n",
       "    <tr>\n",
       "      <th>0</th>\n",
       "      <td>1</td>\n",
       "      <td>../data/inmail.1</td>\n",
       "      <td>b'From RickyAmes@aol.com  Sun Apr  8 13:07:32 ...</td>\n",
       "    </tr>\n",
       "    <tr>\n",
       "      <th>1</th>\n",
       "      <td>0</td>\n",
       "      <td>../data/inmail.2</td>\n",
       "      <td>b'From bounce-debian-mirrors=ktwarwic=speedy.u...</td>\n",
       "    </tr>\n",
       "    <tr>\n",
       "      <th>2</th>\n",
       "      <td>1</td>\n",
       "      <td>../data/inmail.3</td>\n",
       "      <td>b'From 7stocknews@tractionmarketing.com  Sun A...</td>\n",
       "    </tr>\n",
       "    <tr>\n",
       "      <th>3</th>\n",
       "      <td>1</td>\n",
       "      <td>../data/inmail.4</td>\n",
       "      <td>b'From vqucsmdfgvsg@ruraltek.com  Sun Apr  8 1...</td>\n",
       "    </tr>\n",
       "    <tr>\n",
       "      <th>4</th>\n",
       "      <td>1</td>\n",
       "      <td>../data/inmail.5</td>\n",
       "      <td>b'From dcube@totalink.net  Sun Apr  8 13:19:30...</td>\n",
       "    </tr>\n",
       "  </tbody>\n",
       "</table>\n",
       "</div>"
      ],
      "text/plain": [
       "   class          filepath                                           contents\n",
       "0      1  ../data/inmail.1  b'From RickyAmes@aol.com  Sun Apr  8 13:07:32 ...\n",
       "1      0  ../data/inmail.2  b'From bounce-debian-mirrors=ktwarwic=speedy.u...\n",
       "2      1  ../data/inmail.3  b'From 7stocknews@tractionmarketing.com  Sun A...\n",
       "3      1  ../data/inmail.4  b'From vqucsmdfgvsg@ruraltek.com  Sun Apr  8 1...\n",
       "4      1  ../data/inmail.5  b'From dcube@totalink.net  Sun Apr  8 13:19:30..."
      ]
     },
     "execution_count": 6,
     "metadata": {},
     "output_type": "execute_result"
    }
   ],
   "source": [
    "category={'spam':1,'ham':0}\n",
    "data['class']=[category[item] for item in data['class'] ]\n",
    "data.head()"
   ]
  },
  {
   "cell_type": "code",
   "execution_count": 7,
   "metadata": {},
   "outputs": [],
   "source": [
    "X_train=(data['contents'][0:1999]).copy()"
   ]
  },
  {
   "cell_type": "code",
   "execution_count": 8,
   "metadata": {},
   "outputs": [],
   "source": [
    "y_train=data['class'][0:1999]"
   ]
  },
  {
   "cell_type": "code",
   "execution_count": 9,
   "metadata": {},
   "outputs": [],
   "source": [
    "X_test=(data['contents'][2000:2500]).copy()"
   ]
  },
  {
   "cell_type": "code",
   "execution_count": 10,
   "metadata": {},
   "outputs": [],
   "source": [
    "y_test=data['class'][2000:2500]"
   ]
  },
  {
   "cell_type": "code",
   "execution_count": 11,
   "metadata": {},
   "outputs": [
    {
     "name": "stderr",
     "output_type": "stream",
     "text": [
      "[nltk_data] Downloading package stopwords to\n",
      "[nltk_data]     /Users/ravindra/nltk_data...\n",
      "[nltk_data]   Package stopwords is already up-to-date!\n",
      "[nltk_data] Downloading package punkt to /Users/ravindra/nltk_data...\n",
      "[nltk_data]   Package punkt is already up-to-date!\n"
     ]
    }
   ],
   "source": [
    "import nltk \n",
    "from nltk.corpus import stopwords\n",
    "nltk.download ('stopwords')\n",
    "\n",
    "nltk.download ('punkt')\n",
    "stop_words=set(stopwords.words(\"english\"))\n",
    "\n",
    "    "
   ]
  },
  {
   "cell_type": "code",
   "execution_count": 12,
   "metadata": {},
   "outputs": [],
   "source": [
    "from nltk.tokenize import word_tokenize\n",
    "from nltk.stem import PorterStemmer,SnowballStemmer\n",
    "\n",
    "def cleanText(email_txt):\n",
    "    email_txt=str(email_txt).replace('\\\\n', ' ').replace('\\\\r', ' ').replace('\\\\t',' ')\n",
    "    #print(email_txt)\n",
    "    clean1 = re.compile('<.*?>')\n",
    "    email_txt=re.sub(clean1, '', str(email_txt)).lower()\n",
    "    clean2=re.compile('\\S*@\\S*\\s?')\n",
    "    email_txt=re.sub(clean2,'emailAddress',email_txt)\n",
    "    email_txt=email_txt.translate(str.maketrans('','',string.punctuation))\n",
    "    email_txt=email_txt.translate(str.maketrans('','','1234567890'))\n",
    "    return str(email_txt)\n",
    "\n",
    "def tokenizeText(text):\n",
    "     return word_tokenize(text)\n",
    "    \n",
    "def removeStopWords(text):\n",
    "    result=[]\n",
    "    for word in text:\n",
    "        if word not in stop_words:\n",
    "            result.append(word)\n",
    "    return result\n",
    "\n",
    "\n",
    "def performStemming(text):\n",
    "    result=''\n",
    "    stemr=SnowballStemmer('english')\n",
    "    for word in text:\n",
    "        result +=(stemr.stem(word))+' '\n",
    "    return result\n",
    "\n",
    "def preprocessText(text):\n",
    "    text0=cleanText(text)\n",
    "    text1=tokenizeText(text0)\n",
    "    text2=removeStopWords(text1)\n",
    "    \n",
    "    text3=performStemming(text2)\n",
    "    #print(text3)\n",
    "    return text3"
   ]
  },
  {
   "cell_type": "code",
   "execution_count": 13,
   "metadata": {},
   "outputs": [],
   "source": [
    "\n",
    "X_train = X_train.apply(preprocessText)"
   ]
  },
  {
   "cell_type": "code",
   "execution_count": 14,
   "metadata": {},
   "outputs": [],
   "source": [
    "X_test=X_test.apply(preprocessText)"
   ]
  },
  {
   "cell_type": "code",
   "execution_count": 15,
   "metadata": {},
   "outputs": [],
   "source": [
    "from sklearn.feature_extraction.text import TfidfVectorizer\n",
    "from sklearn.model_selection import train_test_split\n",
    "vectorizer = TfidfVectorizer(\"english\")\n",
    "features = vectorizer.fit_transform(X_train)\n",
    "features_train, features_test, labels_train, labels_test = train_test_split(features, y_train, test_size=0.3, random_state=42)"
   ]
  },
  {
   "cell_type": "code",
   "execution_count": 16,
   "metadata": {},
   "outputs": [
    {
     "data": {
      "text/plain": [
       "0.9916666666666667"
      ]
     },
     "execution_count": 16,
     "metadata": {},
     "output_type": "execute_result"
    }
   ],
   "source": [
    "from sklearn.metrics import accuracy_score\n",
    "from sklearn.svm import SVC\n",
    "\n",
    "svc = SVC(kernel='sigmoid', gamma=1.0)\n",
    "svc.fit(features_train, labels_train)\n",
    "prediction = svc.predict(features_test)\n",
    "accuracy_score(labels_test,prediction)"
   ]
  },
  {
   "cell_type": "code",
   "execution_count": 17,
   "metadata": {},
   "outputs": [
    {
     "data": {
      "text/plain": [
       "0.9716666666666667"
      ]
     },
     "execution_count": 17,
     "metadata": {},
     "output_type": "execute_result"
    }
   ],
   "source": [
    "from sklearn.naive_bayes import MultinomialNB\n",
    "\n",
    "mnb = MultinomialNB(alpha=0.2)\n",
    "mnb.fit(features_train, labels_train)\n",
    "prediction = mnb.predict(features_test)\n",
    "accuracy_score(labels_test,prediction)"
   ]
  },
  {
   "cell_type": "code",
   "execution_count": 18,
   "metadata": {},
   "outputs": [
    {
     "name": "stdout",
     "output_type": "stream",
     "text": [
      "(500, 82430)\n"
     ]
    }
   ],
   "source": [
    "\n",
    "features3 = vectorizer.transform(X_test)\n",
    "print(features3.shape)\n",
    "prediction = mnb.predict(features3)\n"
   ]
  },
  {
   "cell_type": "code",
   "execution_count": 19,
   "metadata": {},
   "outputs": [
    {
     "data": {
      "text/plain": [
       "0.986"
      ]
     },
     "execution_count": 19,
     "metadata": {},
     "output_type": "execute_result"
    }
   ],
   "source": [
    "accuracy_score(y_test,prediction)"
   ]
  },
  {
   "cell_type": "code",
   "execution_count": null,
   "metadata": {},
   "outputs": [],
   "source": []
  }
 ],
 "metadata": {
  "kernelspec": {
   "display_name": "Python 3",
   "language": "python",
   "name": "python3"
  },
  "language_info": {
   "codemirror_mode": {
    "name": "ipython",
    "version": 3
   },
   "file_extension": ".py",
   "mimetype": "text/x-python",
   "name": "python",
   "nbconvert_exporter": "python",
   "pygments_lexer": "ipython3",
   "version": "3.6.5"
  }
 },
 "nbformat": 4,
 "nbformat_minor": 2
}
